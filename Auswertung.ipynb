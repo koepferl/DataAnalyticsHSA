{
 "cells": [
  {
   "cell_type": "markdown",
   "metadata": {},
   "source": [
    "# Deskriptive Datenanalyse\n",
    "\n",
    "mittels Python (Pandas, Seaborn, NumPy, Matplotlib)\n",
    "\n",
    "* Pandas https://pandas.pydata.org\n",
    "* Seaborn https://seaborn.pydata.org\n",
    "* Numpy https://numpy.org\n",
    "* Matplotlib https://matplotlib.org\n",
    "\n",
    "Mit den Jupyter Notebook koennen Sie auch Notizen machen.\n",
    "\n",
    "* Durch ein ``#`` Symbol vor dem Text\n",
    "* In der Menueleiste bei ``Insert`` neue Zeile einfuegen und bei und im ``Dropdown Menue Code`` durch ``Markdown`` ersetzen.\n",
    "* Der Code wird durch das ``PLAY / Run`` Symbol ausgefuehrt, oder durch ``Hochtaste`` + ``Enter``\n",
    "\n",
    "Mehr Informationen zum Jupyter Notebook finden Sie hier: https://jupyter.org"
   ]
  },
  {
   "cell_type": "code",
   "execution_count": null,
   "metadata": {},
   "outputs": [],
   "source": [
    "# Softwarepakete werden geladen\n",
    "import pandas as pd\n",
    "import numpy as np\n",
    "import seaborn as sns\n",
    "\n",
    "# folgenden 3 Zeilen braucht man nur im Jupyter Notebook\n",
    "%matplotlib inline \n",
    "import warnings\n",
    "warnings.filterwarnings('ignore')"
   ]
  },
  {
   "cell_type": "markdown",
   "metadata": {},
   "source": [
    "#### Agenda: \n",
    "\n",
    "* 1  |  Daten einlesen\n",
    "* 2  |  Daten bereinigen\n",
    "* 3  |  Daten gruppieren\n",
    "* 4  |  Daten darstellen\n",
    "* 5  |  Daten analysieren\n",
    "\n",
    "\n",
    "## 1 | Daten einlesen\n",
    "\n",
    "Wir benutzen dafuer Pandas und Numpy."
   ]
  },
  {
   "cell_type": "markdown",
   "metadata": {},
   "source": [
    "### 1.1 | Wir verschaffen uns einen ersten Ueberblick"
   ]
  },
  {
   "cell_type": "code",
   "execution_count": null,
   "metadata": {},
   "outputs": [],
   "source": [
    "# einlesen der CSV Datei in den pandas DataFrame genannt df\n",
    "df = pd.read_csv('2020_11_24_Beispieldaten_DA_Professur.csv')\n",
    "\n",
    "# DataFrame anzeigen\n",
    "print(df)"
   ]
  },
  {
   "cell_type": "markdown",
   "metadata": {},
   "source": [
    "Durch die Eingabe des ``delimiter`` (Spaltentrennungszeichen) kann Pandas die CSV einlesen."
   ]
  },
  {
   "cell_type": "code",
   "execution_count": null,
   "metadata": {},
   "outputs": [],
   "source": [
    "# einlesen der CSV Datei in den pandas DataFrame genannt df\n",
    "df = pd.read_csv('2020_11_24_Beispieldaten_DA_Professur.csv', delimiter=';')\n",
    "\n",
    "# DataFrame anzeigen\n",
    "print(df)"
   ]
  },
  {
   "cell_type": "markdown",
   "metadata": {},
   "source": [
    "Im Notebook ist es aber auch moeglich, ``df`` auch einfach ohne ``print`` Kommando darzustellen."
   ]
  },
  {
   "cell_type": "code",
   "execution_count": null,
   "metadata": {},
   "outputs": [],
   "source": [
    "df"
   ]
  },
  {
   "cell_type": "markdown",
   "metadata": {},
   "source": [
    "### 1.2 | Untersuchen von Zeilen und Spalten"
   ]
  },
  {
   "cell_type": "markdown",
   "metadata": {},
   "source": [
    "Zeilenweises anschauen ... Achtung: bei PYTHON beginnt man mit Null zu zaehlen."
   ]
  },
  {
   "cell_type": "code",
   "execution_count": null,
   "metadata": {},
   "outputs": [],
   "source": [
    "# nur Zeile mit Index 1 ansehen\n",
    "df.iloc[[5]]"
   ]
  },
  {
   "cell_type": "markdown",
   "metadata": {},
   "source": [
    "Wir untersuchen einen Ausschnitt der Spalten ... "
   ]
  },
  {
   "cell_type": "code",
   "execution_count": null,
   "metadata": {},
   "outputs": [],
   "source": [
    "df.Alter"
   ]
  },
  {
   "cell_type": "code",
   "execution_count": null,
   "metadata": {},
   "outputs": [],
   "source": [
    "df.Groesse"
   ]
  },
  {
   "cell_type": "code",
   "execution_count": null,
   "metadata": {},
   "outputs": [],
   "source": [
    "df.Geschlecht"
   ]
  },
  {
   "cell_type": "code",
   "execution_count": null,
   "metadata": {},
   "outputs": [],
   "source": [
    "df.NoteMathe"
   ]
  },
  {
   "cell_type": "code",
   "execution_count": null,
   "metadata": {},
   "outputs": [],
   "source": [
    "df.MatheZufr"
   ]
  },
  {
   "cell_type": "markdown",
   "metadata": {},
   "source": [
    "### 1.3 | Datentypen"
   ]
  },
  {
   "cell_type": "markdown",
   "metadata": {},
   "source": [
    "Wie in allen Programmiersprachen ueblich, gibt es verschiedene Datentypen (``float`` Gleitkommazahl, ``int`` Ganze Zahl, ``object`` undefiniertes, ``str`` Text)"
   ]
  },
  {
   "cell_type": "code",
   "execution_count": null,
   "metadata": {
    "scrolled": true
   },
   "outputs": [],
   "source": [
    "# untersuchen des Datentypes\n",
    "df.info(verbose=True)"
   ]
  },
  {
   "cell_type": "markdown",
   "metadata": {},
   "source": [
    "### FAZIT \n",
    "\n",
    "``Geschlecht``, ``AnzSchuhe``, ``NoteMathe`` und ``MatheZufr`` muss bereinigt werden."
   ]
  },
  {
   "cell_type": "markdown",
   "metadata": {},
   "source": [
    "## 2 | Daten bereinigen"
   ]
  },
  {
   "cell_type": "markdown",
   "metadata": {},
   "source": [
    "### 2.1 | Bereinigung nach Datentypen"
   ]
  },
  {
   "cell_type": "markdown",
   "metadata": {},
   "source": [
    "Im folgenden wird untersucht ob der DataFrame Spalten (numerich, nicht numerisch) ordentlich erkennt."
   ]
  },
  {
   "cell_type": "code",
   "execution_count": null,
   "metadata": {},
   "outputs": [],
   "source": [
    "df"
   ]
  },
  {
   "cell_type": "markdown",
   "metadata": {},
   "source": [
    "#### Bereinigen der Spalte ``Alter``?"
   ]
  },
  {
   "cell_type": "code",
   "execution_count": null,
   "metadata": {},
   "outputs": [],
   "source": [
    "# sucht alle einzigartigen Eintraege\n",
    "df.Alter.unique()"
   ]
  },
  {
   "cell_type": "markdown",
   "metadata": {},
   "source": [
    "#### Bereinigen der Spalte ``Groesse``?"
   ]
  },
  {
   "cell_type": "code",
   "execution_count": null,
   "metadata": {},
   "outputs": [],
   "source": [
    "# sucht alle einzigartigen Eintraege\n",
    "df.Groesse.unique()"
   ]
  },
  {
   "cell_type": "markdown",
   "metadata": {},
   "source": [
    "#### Bereinigen der Spalte ``Geschlecht``?"
   ]
  },
  {
   "cell_type": "code",
   "execution_count": null,
   "metadata": {},
   "outputs": [],
   "source": [
    "# sucht alle einzigartigen Eintraege\n",
    "df.Geschlecht.unique()"
   ]
  },
  {
   "cell_type": "code",
   "execution_count": null,
   "metadata": {},
   "outputs": [],
   "source": [
    "# ersetzen von 'Frau' und 'frau' durch 'w' und 'mann' und 'Mann' durch 'm'\n",
    "df.Geschlecht = df.Geschlecht.replace({'Frau':str('w'), 'frau': str('w'), 'Mann':str('m'), 'mann':str('m')}) "
   ]
  },
  {
   "cell_type": "code",
   "execution_count": null,
   "metadata": {},
   "outputs": [],
   "source": [
    "df"
   ]
  },
  {
   "cell_type": "markdown",
   "metadata": {},
   "source": [
    "#### Bereinigen von Spalte ``AnzSchuhe``?"
   ]
  },
  {
   "cell_type": "code",
   "execution_count": null,
   "metadata": {},
   "outputs": [],
   "source": [
    "df.AnzSchuhe"
   ]
  },
  {
   "cell_type": "code",
   "execution_count": null,
   "metadata": {},
   "outputs": [],
   "source": [
    "# sucht alle einzigartigen Eintraege\n",
    "df.AnzSchuhe.unique()"
   ]
  },
  {
   "cell_type": "code",
   "execution_count": null,
   "metadata": {},
   "outputs": [],
   "source": [
    "# ersetzt 'wort' durch Zahl (Spalte in ganzzahlige Werte umwandeln)\n",
    "df.AnzSchuhe = df.AnzSchuhe.replace('fünfzehn', '15').astype('int')"
   ]
  },
  {
   "cell_type": "code",
   "execution_count": null,
   "metadata": {},
   "outputs": [],
   "source": [
    "df"
   ]
  },
  {
   "cell_type": "markdown",
   "metadata": {},
   "source": [
    "#### Bereinigen von Spalte ``NoteMathe``?"
   ]
  },
  {
   "cell_type": "code",
   "execution_count": null,
   "metadata": {},
   "outputs": [],
   "source": [
    "# sucht alle einzigartigen Eintraege\n",
    "df.NoteMathe.unique()"
   ]
  },
  {
   "cell_type": "code",
   "execution_count": null,
   "metadata": {},
   "outputs": [],
   "source": [
    "# ersetzen von Komma durch Punkt als Deziamaltrennung (Umwandlung in Spalte mit Dezimalzahlen)\n",
    "df.NoteMathe = df.NoteMathe.str.replace(',','.').astype('float')"
   ]
  },
  {
   "cell_type": "code",
   "execution_count": null,
   "metadata": {},
   "outputs": [],
   "source": [
    "df"
   ]
  },
  {
   "cell_type": "markdown",
   "metadata": {},
   "source": [
    "#### Bereinigen von Spalte ``MatheZufr``?"
   ]
  },
  {
   "cell_type": "code",
   "execution_count": null,
   "metadata": {},
   "outputs": [],
   "source": [
    "# sucht alle einzigartigen Eintraege\n",
    "df.MatheZufr.unique()"
   ]
  },
  {
   "cell_type": "code",
   "execution_count": null,
   "metadata": {},
   "outputs": [],
   "source": [
    "df"
   ]
  },
  {
   "cell_type": "code",
   "execution_count": null,
   "metadata": {},
   "outputs": [],
   "source": [
    "# gibt Datentypen der Spalten aus\n",
    "df.info(verbose=True)"
   ]
  },
  {
   "cell_type": "markdown",
   "metadata": {},
   "source": [
    "### 2.2 | Logische Bereinigung (Maskierungsbedingungen)"
   ]
  },
  {
   "cell_type": "markdown",
   "metadata": {},
   "source": [
    "Manchmal muessen aber auch unlogische Eingaben bereinigt werden. Dazu bietet es sich an den DataFrame vorher zu kopieren, damit man das original nicht veraendert. Solche logischen Bereinigungen muessen genau dokumentiert und spaeter in Publikationen angegeben werden."
   ]
  },
  {
   "cell_type": "code",
   "execution_count": null,
   "metadata": {},
   "outputs": [],
   "source": [
    "# kopiert den Dataframe\n",
    "dfl = df.copy(deep = True)"
   ]
  },
  {
   "cell_type": "code",
   "execution_count": null,
   "metadata": {},
   "outputs": [],
   "source": [
    "# gibt statistische Werte fuer Spalten aus\n",
    "dfl.describe()"
   ]
  },
  {
   "cell_type": "markdown",
   "metadata": {},
   "source": [
    "Logische Bereinigung noetig bei ...?\n",
    "\n",
    "* ``Alter``: hohe Werte\n",
    "* ``Groesse``: niedrige Werte\n",
    "* ``AlterV``: hohe Werte\n",
    "* ``AlterM``: hohe Werte\n",
    "* ``AnzSchuhe``: hohe Werte\n",
    "* ``MatheNote``: ok"
   ]
  },
  {
   "cell_type": "markdown",
   "metadata": {},
   "source": [
    "#### Logische Bereinigung ``Alter``"
   ]
  },
  {
   "cell_type": "code",
   "execution_count": null,
   "metadata": {},
   "outputs": [],
   "source": [
    "# gibt Spalte aus\n",
    "dfl.Alter"
   ]
  },
  {
   "cell_type": "code",
   "execution_count": null,
   "metadata": {},
   "outputs": [],
   "source": [
    "# gibt sortierte Spalte aus\n",
    "dfl.Alter.sort_values()"
   ]
  },
  {
   "cell_type": "code",
   "execution_count": null,
   "metadata": {},
   "outputs": [],
   "source": [
    "# Bedingung fuer unrealistisches Alter\n",
    "unreal_Alter = (dfl.Alter > 100.)"
   ]
  },
  {
   "cell_type": "code",
   "execution_count": null,
   "metadata": {},
   "outputs": [],
   "source": [
    "# Bedingung ansehen\n",
    "unreal_Alter\n",
    "#unreal_Alter[961]"
   ]
  },
  {
   "cell_type": "markdown",
   "metadata": {},
   "source": [
    "#### Logische Bereinigung ``Groesse``"
   ]
  },
  {
   "cell_type": "code",
   "execution_count": null,
   "metadata": {},
   "outputs": [],
   "source": [
    "# gibt sortierte Spalte aus\n",
    "dfl.Groesse.sort_values()"
   ]
  },
  {
   "cell_type": "code",
   "execution_count": null,
   "metadata": {},
   "outputs": [],
   "source": [
    "# Bedingung fuer unrealistische Groesse\n",
    "unreal_Groesse = (dfl.Groesse < 50)"
   ]
  },
  {
   "cell_type": "markdown",
   "metadata": {},
   "source": [
    "#### Logische Bereinigung ``AlterV``"
   ]
  },
  {
   "cell_type": "code",
   "execution_count": null,
   "metadata": {},
   "outputs": [],
   "source": [
    "# gibt die sortierte Spalte aus\n",
    "dfl.AlterV.sort_values()"
   ]
  },
  {
   "cell_type": "code",
   "execution_count": null,
   "metadata": {},
   "outputs": [],
   "source": [
    "# Bedingung fuer unrealistisches AlterV\n",
    "unreal_AlterV = (dfl.AlterV > 150.)"
   ]
  },
  {
   "cell_type": "markdown",
   "metadata": {},
   "source": [
    "#### Logische Bereinigung ``AlterM``"
   ]
  },
  {
   "cell_type": "code",
   "execution_count": null,
   "metadata": {},
   "outputs": [],
   "source": [
    "# gibt die sortierte Spalte aus\n",
    "dfl.AlterM.sort_values()"
   ]
  },
  {
   "cell_type": "code",
   "execution_count": null,
   "metadata": {},
   "outputs": [],
   "source": [
    "# Bedingung fuer unrealistisches AlterM\n",
    "unreal_AlterM = (dfl.AlterM > 150.)"
   ]
  },
  {
   "cell_type": "markdown",
   "metadata": {},
   "source": [
    "#### Logische Bereinigung ``AnzSchuhe``"
   ]
  },
  {
   "cell_type": "code",
   "execution_count": null,
   "metadata": {},
   "outputs": [],
   "source": [
    "# gibt die sortierte Spalte aus\n",
    "dfl.AnzSchuhe.sort_values()"
   ]
  },
  {
   "cell_type": "code",
   "execution_count": null,
   "metadata": {},
   "outputs": [],
   "source": [
    "# Bedingung fuer unrealistische AnzSchuhe\n",
    "unreal_AnzSchuhe = (dfl.AnzSchuhe > 100)"
   ]
  },
  {
   "cell_type": "markdown",
   "metadata": {},
   "source": [
    "### AUFGABE\n",
    "Ueberlegen Sie ob es wirklich sinnvoll ist ``AnzSchuhe`` zu bereinigen?"
   ]
  },
  {
   "cell_type": "markdown",
   "metadata": {},
   "source": [
    "### 2.3 | Maskierung"
   ]
  },
  {
   "cell_type": "markdown",
   "metadata": {},
   "source": [
    "Nun werden die oben Bedingungen genutzt um unrealistische Werte zu maskieren. "
   ]
  },
  {
   "cell_type": "code",
   "execution_count": null,
   "metadata": {},
   "outputs": [],
   "source": [
    "# gibt nur Zeilen des DataFrames aus, die unrealistisches Alter haben \n",
    "dfl[unreal_Alter]"
   ]
  },
  {
   "cell_type": "code",
   "execution_count": null,
   "metadata": {},
   "outputs": [],
   "source": [
    "# in diesen Zeilen wird nun das Alter durch eine NaN ersetzt (NaN = 'not a number')\n",
    "dfl.Alter[unreal_Alter] = np.nan"
   ]
  },
  {
   "cell_type": "code",
   "execution_count": null,
   "metadata": {
    "scrolled": true
   },
   "outputs": [],
   "source": [
    "# gibt nur Zeilen des DataFrames aus, die unrealistisches Alter haben \n",
    "dfl[unreal_Alter]"
   ]
  },
  {
   "cell_type": "markdown",
   "metadata": {},
   "source": [
    "Vergleichen Sie mit der Ausgabe von oberhalb."
   ]
  },
  {
   "cell_type": "code",
   "execution_count": null,
   "metadata": {},
   "outputs": [],
   "source": [
    "# maskieren alle restlichen Spalten\n",
    "dfl.Groesse[unreal_Groesse] = np.nan\n",
    "dfl.AlterV[unreal_AlterV] = np.nan\n",
    "dfl.AlterM[unreal_AlterM] = np.nan\n",
    "dfl.AnzSchuhe[unreal_AnzSchuhe] = np.nan"
   ]
  },
  {
   "cell_type": "code",
   "execution_count": null,
   "metadata": {},
   "outputs": [],
   "source": [
    "dfl"
   ]
  },
  {
   "cell_type": "markdown",
   "metadata": {},
   "source": [
    "### ANMERKUNG\n",
    "Es gibt auch die Moeglichkeit, Zeilen so zu maskieren, damit bei einen unrealistischen Wert die gesamte Zeile ``NaN`` gesetzt wird (siehe https://pandas.pydata.org/pandas-docs/stable/reference/api/pandas.DataFrame.mask.html)."
   ]
  },
  {
   "cell_type": "markdown",
   "metadata": {},
   "source": [
    "Dabei wird allerdings Information vernichtet, beispielsweise wenn man sich nur fuer die Zufriedenheit der Studierenden interessiert, und Angaben wie ``Groesse`` fuer diese Fragestellung uninteressant sind."
   ]
  },
  {
   "cell_type": "markdown",
   "metadata": {},
   "source": [
    "## 3 | Datengruppierung\n"
   ]
  },
  {
   "cell_type": "markdown",
   "metadata": {},
   "source": [
    "In diesen DataFrame gibt es die nicht numerische Spalten ``Geschlecht`` und ``MatheZufr``. Um spaeter den Datensatz nach diesen Gruppen zu untersuchen, gibt es in PANDAS die praktische Moeglichkeit Gruppierungen zu erstellen. Es bietet sich auch an, weitere Gruppierungen zu erstellen."
   ]
  },
  {
   "cell_type": "code",
   "execution_count": null,
   "metadata": {},
   "outputs": [],
   "source": [
    "dfl"
   ]
  },
  {
   "cell_type": "markdown",
   "metadata": {},
   "source": [
    "### 3.1 |  Gruppierung nach ``Geschlecht``"
   ]
  },
  {
   "cell_type": "code",
   "execution_count": null,
   "metadata": {},
   "outputs": [],
   "source": [
    "gr_nach_geschlecht = dfl.groupby(['Geschlecht'])"
   ]
  },
  {
   "cell_type": "markdown",
   "metadata": {},
   "source": [
    "### 3.2 | Gruppierung nach ``MathZufr``"
   ]
  },
  {
   "cell_type": "code",
   "execution_count": null,
   "metadata": {},
   "outputs": [],
   "source": [
    "gr_nach_zufr = dfl.groupby(['MatheZufr'])"
   ]
  },
  {
   "cell_type": "markdown",
   "metadata": {},
   "source": [
    "### 3.3 | Gruppierung nach ``Alter``"
   ]
  },
  {
   "cell_type": "code",
   "execution_count": null,
   "metadata": {},
   "outputs": [],
   "source": [
    "# gibt den Median in der Alterspalte aus (PANDAS ignoriert dabei die Eingraege NaN)\n",
    "median_Alter = np.nanmedian(dfl['Alter'])"
   ]
  },
  {
   "cell_type": "markdown",
   "metadata": {},
   "source": [
    "Neue Spalte erstellen mit Aufteilung \"aeltere\" und 'juengere' im Bezug auf den Median"
   ]
  },
  {
   "cell_type": "code",
   "execution_count": null,
   "metadata": {},
   "outputs": [],
   "source": [
    "# Bedingung fuer die Aufteilung in aeltere und juengere\n",
    "dfl['Altersgruppe'] = np.nan\n",
    "dfl['Altersgruppe'][dfl['Alter'] <= median_Alter] = 'juengere'\n",
    "dfl['Altersgruppe'][dfl['Alter'] > median_Alter] = 'aeltere'"
   ]
  },
  {
   "cell_type": "code",
   "execution_count": null,
   "metadata": {},
   "outputs": [],
   "source": [
    "dfl"
   ]
  },
  {
   "cell_type": "code",
   "execution_count": null,
   "metadata": {},
   "outputs": [],
   "source": [
    "# erstellen der Gruppierung in 2 Altersgruppen\n",
    "gr_nach_alter = dfl.groupby(['Altersgruppe'])"
   ]
  },
  {
   "cell_type": "markdown",
   "metadata": {},
   "source": [
    "### 3.4 | Gruppierung nach 2 Spalten"
   ]
  },
  {
   "cell_type": "markdown",
   "metadata": {},
   "source": [
    "Es gibt die Moeglichkeit auch nach 2 Spalten zu Gruppieren, z. B. nach ``Geschlecht`` und nach ``MatheZufr``."
   ]
  },
  {
   "cell_type": "code",
   "execution_count": null,
   "metadata": {},
   "outputs": [],
   "source": [
    "gr_nach_zufr_geschlecht = dfl.groupby(['MatheZufr','Geschlecht'])"
   ]
  },
  {
   "cell_type": "markdown",
   "metadata": {},
   "source": [
    "### AUFGABE\n",
    "\n",
    "Erstellen Sie eine weitere Gruppierung \"bestanden?\" im Bezug auf die Matheklausur."
   ]
  },
  {
   "cell_type": "markdown",
   "metadata": {},
   "source": [
    "## 4 | Daten darstellen (eine kleine Auswahl)\n",
    "\n",
    "### 4.1 | Schnellansicht mit Pandas"
   ]
  },
  {
   "cell_type": "markdown",
   "metadata": {},
   "source": [
    "Die Schnelluebersicht ermoeglicht es alle numerischen Spalten in Histogrammen zu sehen. Allerdings werden so die nicht-numischen Spalten nicht ausgegeben."
   ]
  },
  {
   "cell_type": "code",
   "execution_count": null,
   "metadata": {},
   "outputs": [],
   "source": [
    "# Histogramme Schnellansicht des Datensatzes (nur numerische Spalten)\n",
    "dfl.hist()#figsize=(25,3), layout=(1,6))"
   ]
  },
  {
   "cell_type": "code",
   "execution_count": null,
   "metadata": {},
   "outputs": [],
   "source": [
    "# nicht numerische Spalten koennen gesondert aufgerufen werden\n",
    "dfl.Geschlecht.hist()\n",
    "dfl.MatheZufr.hist()"
   ]
  },
  {
   "cell_type": "markdown",
   "metadata": {},
   "source": [
    "### 4.2 | Plot Funktion in Pandas"
   ]
  },
  {
   "cell_type": "markdown",
   "metadata": {},
   "source": [
    "Die ``plot`` Funktion in Pandas ermoeglicht es auch zu formatieren. Es gibt dort verschiedenste Arten von Darstellungen z. B. Histogramme ``'hist'``, Kuchendiagramme ``'pie'``, Balken ``'barh'`` etc. \n",
    "Der Aufruf erfolgt in folgender Struktur: "
   ]
  },
  {
   "cell_type": "raw",
   "metadata": {},
   "source": [
    "DataFrame.Spaltenname.plot(kind='...', hier kommt Formatierung oder nichts)"
   ]
  },
  {
   "cell_type": "code",
   "execution_count": null,
   "metadata": {},
   "outputs": [],
   "source": [
    "dfl.Alter.plot(kind='hist', title='Alter')"
   ]
  },
  {
   "cell_type": "markdown",
   "metadata": {},
   "source": [
    "### 4.3 | Histogramme und Gruppierung nach ``Geschlecht``"
   ]
  },
  {
   "cell_type": "markdown",
   "metadata": {},
   "source": [
    "Mittels einer Zeile koennen in Pandas auch Histogramme fuer die unterschiedlichen Gruppen untersucht werden. Hier am Beispiel der ``AnzSchuhe`` nach ``Geschlecht``."
   ]
  },
  {
   "cell_type": "code",
   "execution_count": null,
   "metadata": {},
   "outputs": [],
   "source": [
    "# alpha entspricht Transparenz, Legende angeschaltet, titel eingabe\n",
    "gr_nach_geschlecht.AnzSchuhe.plot(kind='hist', alpha=0.7, legend=True, title='AnzSchuhe')"
   ]
  },
  {
   "cell_type": "markdown",
   "metadata": {},
   "source": [
    "### 4.4 | Kuchediagramme am Beispiel Gruppierung nach ``Geschlecht``"
   ]
  },
  {
   "cell_type": "markdown",
   "metadata": {},
   "source": [
    "#### Gruppengroesse Spalte ``Geschlecht``"
   ]
  },
  {
   "cell_type": "code",
   "execution_count": null,
   "metadata": {},
   "outputs": [],
   "source": [
    "# Aufteilung Geschlechterverteilung (autopct='%1.1f%%' gibt Prozentwerte an)\n",
    "gr_nach_geschlecht.size().plot(kind='pie', y='Geschlecht', autopct='%1.1f%%')"
   ]
  },
  {
   "cell_type": "markdown",
   "metadata": {},
   "source": [
    "#### Anteil auf die Gruppenmitglieder ``Geschlecht`` im Bezug auf Spalte ``AnzSchuhe``"
   ]
  },
  {
   "cell_type": "code",
   "execution_count": null,
   "metadata": {},
   "outputs": [],
   "source": [
    "# Schuhverteilung\n",
    "gr_nach_geschlecht.sum().plot(kind='pie', y='AnzSchuhe', autopct='%1.1f%%')"
   ]
  },
  {
   "cell_type": "markdown",
   "metadata": {},
   "source": [
    "#### ZWISCHENFAZIT\n",
    "Obwohl nur ca. 40% der Befragten Männer sind, haben sie nur ca. 20% der Schuhe. "
   ]
  },
  {
   "cell_type": "markdown",
   "metadata": {},
   "source": [
    "#### Anteil auf die Gruppenmitglieder ``Geschlecht`` im Bezug auf Spalte ``MatheZufr``"
   ]
  },
  {
   "cell_type": "code",
   "execution_count": null,
   "metadata": {
    "scrolled": true
   },
   "outputs": [],
   "source": [
    "gr_nach_zufr_geschlecht.size().plot(kind='pie', y='MatheZufr', autopct='%1.d%%')\n",
    "gr_nach_zufr.size().plot(kind='pie', y='MatheZufr', autopct='%1.d%%')"
   ]
  },
  {
   "cell_type": "markdown",
   "metadata": {},
   "source": [
    "### 4.5 | Balkendiagramme am Beispiel Gruppierung nach 2 Spalten \n",
    "In 3.4 haben wir nach 2 Spalten gruppiert (``Geschlecht``, ``MatheZufr``). Nun sehen wir uns dazu das passende Balkendiagramm an."
   ]
  },
  {
   "cell_type": "code",
   "execution_count": null,
   "metadata": {},
   "outputs": [],
   "source": [
    "gr_nach_zufr_geschlecht.size().unstack().plot(kind='barh')"
   ]
  },
  {
   "cell_type": "markdown",
   "metadata": {},
   "source": [
    "### AUFGABE\n",
    "In Python gibt eine sehr hilfbereite Community. Falls Sie fragen haben oder nach einer etwas anderen Variante suchen, hilft googlen of weiter.\n",
    "Versuchen Sie das Balkendiagramm so zu veraendern, dass es auch noch die Gesamtwerte der vier Rubriken enthaelt. Starten Sie dabei mit:\n",
    "https://www.oreilly.com/content/exploring-data-with-pandas/#explore_cat_gen_sort\n",
    "Ueberlegen Sie, warum diese zusaetzliche Balken nuetzlich ist."
   ]
  },
  {
   "cell_type": "markdown",
   "metadata": {},
   "source": [
    "### 4.5 | Scatter plots (Streudiagramme)"
   ]
  },
  {
   "cell_type": "markdown",
   "metadata": {},
   "source": [
    "Bis lang haben wir uns jede numerische Spalte einzeln, mit Streudiagrammen, kann man nach Korrelationen (Beziehungen) suchen zwischen Datenspalten suchen.\n",
    "\n",
    "#### Beziehung ``Alter`` und ``Groesse``?\n",
    "Bei Streudiagrammen ist es besonders bei streng diskreten Werten wichtig, dass man beachtet, dass die Punkte andere decken koennten."
   ]
  },
  {
   "cell_type": "code",
   "execution_count": null,
   "metadata": {},
   "outputs": [],
   "source": [
    "dfl.plot.scatter(x='Alter', y='Groesse', color='DarkBlue', alpha=0.1)"
   ]
  },
  {
   "cell_type": "markdown",
   "metadata": {},
   "source": [
    "Hierbei kann ein Dichtediagramm oder ein Hexabindiagramm abhilfe schaffen."
   ]
  },
  {
   "cell_type": "code",
   "execution_count": null,
   "metadata": {},
   "outputs": [],
   "source": [
    "dfl.plot.hexbin(x='Alter', y='Groesse', gridsize=20, colormap='Blues', reduce_C_function=np.sum, sharex=False)"
   ]
  },
  {
   "cell_type": "markdown",
   "metadata": {},
   "source": [
    "## 5 | Datenanalyse"
   ]
  },
  {
   "cell_type": "markdown",
   "metadata": {},
   "source": [
    "Bislang sind wie mit einer gewissen Vorahnung an die Auswertung herangegangen. Angenommen wir haetten keine Vermutungen im Bezug auf die Beziehungen zwischen den Spalten.\n",
    "Achtung: Unsere Vermutungen koennen uns auch Taeuschen und die Auswahl verfaelschen. Deshalb ist es besonders wichtig sich ueber die Korrelationen aller Spalten ein Bild zu machen. "
   ]
  },
  {
   "cell_type": "code",
   "execution_count": null,
   "metadata": {},
   "outputs": [],
   "source": [
    "dfl"
   ]
  },
  {
   "cell_type": "markdown",
   "metadata": {},
   "source": [
    "### 5.1 | Numerische Spalte ``ZufrNum`` analog zu ``MatheZufr``\n",
    "Es bietet sich an, eine neue Spalte ``ZufrNum`` zu erstellen, die die nicht-numerische Spalte ``MatheZufr`` in eine numerische im System 1-4 ueberfuehrt."
   ]
  },
  {
   "cell_type": "code",
   "execution_count": null,
   "metadata": {},
   "outputs": [],
   "source": [
    "# erstellen der Spalte voller NaNs \n",
    "dfl['ZufrNum'] = np.nan\n",
    "dfl"
   ]
  },
  {
   "cell_type": "code",
   "execution_count": null,
   "metadata": {},
   "outputs": [],
   "source": [
    "# befuellen der neuen Spalte\n",
    "dfl['ZufrNum'][dfl['MatheZufr'] == 'unzufrieden'] = 4.\n",
    "dfl['ZufrNum'][dfl['MatheZufr'] == 'geht so'] = 3.\n",
    "dfl['ZufrNum'][dfl['MatheZufr'] == 'zufrieden'] = 2.\n",
    "dfl['ZufrNum'][dfl['MatheZufr'] == 'sehr zufrieden'] = 1."
   ]
  },
  {
   "cell_type": "code",
   "execution_count": null,
   "metadata": {},
   "outputs": [],
   "source": [
    "dfl"
   ]
  },
  {
   "cell_type": "markdown",
   "metadata": {},
   "source": [
    "### 5.2 | Schnellausgabe Korrelationen\n",
    "Pandas kann mittels einer Befehls die Korrelationskoeffizienten zwischen allen numerischen Spalten ausgeben. Ueberlegen Sie warum die Korrelationsmatrix symmetisch ist. Erinnern Sie sich auch daran, dass eine proportionale Groessen Korrelationswerte von +-1 haben, wohingegen unkorrelierte Groessen Werte nahe Null haben."
   ]
  },
  {
   "cell_type": "code",
   "execution_count": null,
   "metadata": {},
   "outputs": [],
   "source": [
    "# Korrelationsmatrix der Spaltenkombinationen mit Pandas\n",
    "dfl.corr()"
   ]
  },
  {
   "cell_type": "code",
   "execution_count": null,
   "metadata": {},
   "outputs": [],
   "source": [
    "# Darstellung der Korrelationsmatrix mit Seaborn\n",
    "sns.heatmap(dfl.corr(), vmin=-1, vmax=1, annot=True, fmt=\"0.2f\",  linewidths=.5, cmap=\"YlGnBu\")"
   ]
  },
  {
   "cell_type": "markdown",
   "metadata": {},
   "source": [
    "Im folgenden schauen wir uns einige interessanten Korrelationen genauer an.\n",
    "\n",
    "### 5.3 | Korrelation ``NoteMathe`` und ``ZufrNum``"
   ]
  },
  {
   "cell_type": "code",
   "execution_count": null,
   "metadata": {
    "scrolled": true
   },
   "outputs": [],
   "source": [
    "sns.jointplot(x=dfl['ZufrNum'], y=dfl['NoteMathe'], kind='kde')"
   ]
  },
  {
   "cell_type": "code",
   "execution_count": null,
   "metadata": {},
   "outputs": [],
   "source": [
    "dfl.groupby(['Geschlecht'])['NoteMathe', 'ZufrNum'].corr()"
   ]
  },
  {
   "cell_type": "markdown",
   "metadata": {},
   "source": [
    "### FAZIT\n",
    "\n",
    "Die Zufriedenheit mit der Matheklausur stark korrelliert mit der erhaltenen Note und variiert geschlechterspezifisch."
   ]
  },
  {
   "cell_type": "markdown",
   "metadata": {},
   "source": [
    "### 5.4 | Korrelation ``AlterM`` und ``AlterV``"
   ]
  },
  {
   "cell_type": "code",
   "execution_count": null,
   "metadata": {},
   "outputs": [],
   "source": [
    "sns.jointplot(x=dfl['AlterM'], y=dfl['AlterV'], kind='kde')\n",
    "sns.jointplot(x=dfl['AlterM'], y=dfl['AlterV'], kind='reg')"
   ]
  },
  {
   "cell_type": "markdown",
   "metadata": {},
   "source": [
    "### FAZIT\n",
    "\n",
    "Das Alter von Muettern und Vatern korreliert miteinander. Man koennte dies mittels Ausgleichsrechnung genauer untersuchen (fitting).\n",
    "\n",
    "\n",
    "### 5.4 | Korrelation ``Alter`` und ``AnzSchuhe``"
   ]
  },
  {
   "cell_type": "code",
   "execution_count": null,
   "metadata": {},
   "outputs": [],
   "source": [
    "# Custom the inside plot: options are: “scatter” | “reg” | “resid” | “kde” | “hex”\n",
    "sns.jointplot(x=dfl[\"Alter\"], y=dfl[\"AnzSchuhe\"], kind='kde')\n"
   ]
  },
  {
   "cell_type": "markdown",
   "metadata": {},
   "source": [
    "### FAZIT\n",
    "\n",
    "Altere haben weniger Schuhe manche als Juengere"
   ]
  },
  {
   "cell_type": "markdown",
   "metadata": {},
   "source": [
    "### 5.5 | Seaborn Scatter Matrix - der Startpunkt fuer Experten"
   ]
  },
  {
   "cell_type": "markdown",
   "metadata": {},
   "source": [
    "Analog zur Korrelationsmatrix kann auch eine Visualisierung als Scatter Matrix ausgegeben werden. Auf der Diagonalen sind dann die Histogramme."
   ]
  },
  {
   "cell_type": "code",
   "execution_count": null,
   "metadata": {},
   "outputs": [],
   "source": [
    "sns.pairplot(dfl)"
   ]
  },
  {
   "cell_type": "code",
   "execution_count": null,
   "metadata": {},
   "outputs": [],
   "source": [
    "sns.pairplot(dfl, hue=\"Geschlecht\")"
   ]
  },
  {
   "cell_type": "code",
   "execution_count": null,
   "metadata": {},
   "outputs": [],
   "source": [
    "g = sns.PairGrid(dfl, hue=\"Geschlecht\", diag_sharey=False)\n",
    "g.map_upper(sns.scatterplot, s=15)\n",
    "g.map_lower(sns.kdeplot)\n",
    "g.map_diag(sns.kdeplot, lw=2)"
   ]
  },
  {
   "cell_type": "markdown",
   "metadata": {},
   "source": [
    "Es ist auch moeglich Gruppierungen darzustellen. Aus diesem Diagrammen kann man sehr viel herauslesen. U. a. sieht man folgendens:\n",
    "    * Groesse: ...\n",
    "    * Groesse: ...\n",
    "    * Schuhe: ...\n",
    "    * Schuhe: ...\n",
    "    * Schuhe: ...\n",
    "    * NoteMathe: ...\n",
    "    * NoteMathe: ... \n",
    "    * Alter: ...\n",
    "    * ..."
   ]
  },
  {
   "cell_type": "markdown",
   "metadata": {},
   "source": [
    "## 6 | HAUSAUFGABE\n",
    "\n",
    "Untersuchen Sie die Scattermatrix fuer die ``Altersgruppe``.\n"
   ]
  },
  {
   "cell_type": "code",
   "execution_count": null,
   "metadata": {},
   "outputs": [],
   "source": [
    "sns.pairplot(dfl, hue=\"Altersgruppe\")"
   ]
  },
  {
   "cell_type": "code",
   "execution_count": null,
   "metadata": {},
   "outputs": [],
   "source": [
    "g = sns.PairGrid(dfl, hue=\"Altersgruppe\", diag_sharey=False)\n",
    "g.map_upper(sns.scatterplot, s=15)\n",
    "g.map_lower(sns.kdeplot)\n",
    "g.map_diag(sns.kdeplot, lw=2)"
   ]
  },
  {
   "cell_type": "code",
   "execution_count": null,
   "metadata": {},
   "outputs": [],
   "source": []
  }
 ],
 "metadata": {
  "kernelspec": {
   "display_name": "Python 3",
   "language": "python",
   "name": "python3"
  },
  "language_info": {
   "codemirror_mode": {
    "name": "ipython",
    "version": 3
   },
   "file_extension": ".py",
   "mimetype": "text/x-python",
   "name": "python",
   "nbconvert_exporter": "python",
   "pygments_lexer": "ipython3",
   "version": "3.8.3"
  }
 },
 "nbformat": 4,
 "nbformat_minor": 4
}
